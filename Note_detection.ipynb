{
 "cells": [
  {
   "cell_type": "code",
   "execution_count": 1,
   "id": "80efc1bc",
   "metadata": {},
   "outputs": [],
   "source": [
    "from scipy.io import wavfile\n",
    "import matplotlib.pyplot as plt\n",
    "from scipy.fft import fft, ifft\n",
    "import numpy as np"
   ]
  },
  {
   "cell_type": "code",
   "execution_count": 2,
   "id": "cc87b029",
   "metadata": {},
   "outputs": [
    {
     "name": "stdout",
     "output_type": "stream",
     "text": [
      "329472\n"
     ]
    },
    {
     "data": {
      "text/plain": [
       "[<matplotlib.lines.Line2D at 0x7f0a4dab7760>,\n",
       " <matplotlib.lines.Line2D at 0x7f0a4dab77c0>]"
      ]
     },
     "execution_count": 2,
     "metadata": {},
     "output_type": "execute_result"
    },
    {
     "data": {
      "image/png": "[encoded data removed]",
      "text/plain": [
       "<Figure size 640x480 with 1 Axes>"
      ]
     },
     "metadata": {},
     "output_type": "display_data"
    }
   ],
   "source": [
    "rate, data = wavfile.read(\"sample2.wav\")\n",
    "print(len(data))\n",
    "data_left = data\n",
    "plt.plot(data_left)\n",
    "# plt.plot(np.fft.fftshift(abs(fft(data))))"
   ]
  },
  {
   "cell_type": "code",
   "execution_count": 2,
   "id": "270bd95c",
   "metadata": {},
   "outputs": [
    {
     "name": "stdout",
     "output_type": "stream",
     "text": [
      "Select string to tune: \n",
      "1. E2 string\n",
      "2. A2 string\n",
      "3. D3 string\n",
      "4. G3 string\n",
      "5. B3 string\n",
      "6. E4 string\n",
      "0. Exit\n",
      "5\n",
      "B3: -26.090000000000003\n",
      "Select string to tune: \n",
      "1. E2 string\n",
      "2. A2 string\n",
      "3. D3 string\n",
      "4. G3 string\n",
      "5. B3 string\n",
      "6. E4 string\n",
      "0. Exit\n",
      "0\n"
     ]
    }
   ],
   "source": [
    "import librosa\n",
    "from scipy.io import wavfile\n",
    "import numpy as np\n",
    "import matplotlib.pyplot as plt\n",
    "\n",
    "# Load the audio file\n",
    "audio_file = 'sample2.wav'\n",
    "audio, sample_rate = librosa.load(audio_file, sr=None)\n",
    "perfect_pitch = {\"E2\": 82.41, \"A2\":110.00, \"D3\": 146.83, \"G3\": 196.00, \"B3\": 246.94, \"E4\": 329.63 }\n",
    "# sample_rate, audio = wavfile.read(\"Bass_Ab.wav\")\n",
    "\n",
    "# Apply Fourier Transform\n",
    "fft = np.fft.fft(audio)\n",
    "magnitude = np.abs(fft)\n",
    "frequency = np.fft.fftfreq(len(magnitude), 1 / sample_rate)\n",
    "#plt.plot(np.abs(frequency))\n",
    "\n",
    "# Find the dominant frequency\n",
    "dominant_frequency = round(frequency[np.argmax(magnitude)], 2)\n",
    "\n",
    "#print(\"Dominant Frequency:\", dominant_frequency)\n",
    "\n",
    "\n",
    "while True:\n",
    "    print(\"Select string to tune: \")\n",
    "    print(\"1. E2 string\")\n",
    "    print(\"2. A2 string\")\n",
    "    print(\"3. D3 string\")\n",
    "    print(\"4. G3 string\")\n",
    "    print(\"5. B3 string\")\n",
    "    print(\"6. E4 string\")\n",
    "    print(\"0. Exit\")\n",
    "    option = int(input())\n",
    "    \n",
    "    if option == 1:\n",
    "        if dominant_frequency != 82.41:\n",
    "            difference = (dominant_frequency - 82.41)\n",
    "            print(f\"E2: {difference}\")\n",
    "\n",
    "        else: print(\"Your string has been tuned\")\n",
    "    if option == 2:\n",
    "        if dominant_frequency != 110.00:\n",
    "            difference = (dominant_frequency - 110.00)\n",
    "            print(f\"A2: {difference}\")\n",
    "\n",
    "        else: print(\"Your string has been tuned\")\n",
    "    if option == 3:\n",
    "        if dominant_frequency != 146.83:\n",
    "            difference = (dominant_frequency - 146.83)\n",
    "            print(f\"D3: {difference}\")\n",
    "\n",
    "        else: print(\"Your string has been tuned\")\n",
    "    if option == 4:\n",
    "        if dominant_frequency != 196.00:\n",
    "            difference = (dominant_frequency - 196.00)\n",
    "            print(f\"G3: {difference}\")\n",
    "\n",
    "        else: print(\"Your string has been tuned\")\n",
    "    if option == 5:\n",
    "        if dominant_frequency != 246.94:\n",
    "            difference = (dominant_frequency - 246.94)\n",
    "            print(f\"B3: {difference}\")\n",
    "\n",
    "        else: print(\"Your string has been tuned\")\n",
    "    if option == 0:\n",
    "        break\n",
    "\n",
    "    if option == 6:\n",
    "        if dominant_frequency != 329.63:\n",
    "            difference = (dominant_frequency - 329.63)\n",
    "            print(f\"E2: {difference}\")\n",
    "\n",
    "        else: print(\"Your string has been tuned\")\n",
    "\n",
    "\n",
    "x = np.linspace(20, 44100, len(frequency))\n",
    "plt.rcParams[\"figure.figsize\"] = (10,6)"
   ]
  },
  {
   "cell_type": "code",
   "execution_count": null,
   "id": "f6b56c79",
   "metadata": {},
   "outputs": [],
   "source": []
  },
  {
   "cell_type": "code",
   "execution_count": null,
   "id": "99a06497",
   "metadata": {},
   "outputs": [],
   "source": []
  },
  {
   "cell_type": "code",
   "execution_count": null,
   "id": "162a9c9f",
   "metadata": {},
   "outputs": [],
   "source": []
  }
 ],
 "metadata": {
  "kernelspec": {
   "display_name": "Python 3 (ipykernel)",
   "language": "python",
   "name": "python3"
  },
  "language_info": {
   "codemirror_mode": {
    "name": "ipython",
    "version": 3
   },
   "file_extension": ".py",
   "mimetype": "text/x-python",
   "name": "python",
   "nbconvert_exporter": "python",
   "pygments_lexer": "ipython3",
   "version": "3.10.9"
  }
 },
 "nbformat": 4,
 "nbformat_minor": 5
}
