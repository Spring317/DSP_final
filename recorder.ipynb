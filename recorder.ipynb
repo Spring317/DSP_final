{
 "cells": [
  {
   "cell_type": "code",
   "execution_count": 1,
   "id": "cc73532d",
   "metadata": {},
   "outputs": [
    {
     "ename": "ModuleNotFoundError",
     "evalue": "No module named 'pyaudio'",
     "output_type": "error",
     "traceback": [
      "\u001b[1;31m---------------------------------------------------------------------------\u001b[0m",
      "\u001b[1;31mModuleNotFoundError\u001b[0m                       Traceback (most recent call last)",
      "Input \u001b[1;32mIn [1]\u001b[0m, in \u001b[0;36m<cell line: 2>\u001b[1;34m()\u001b[0m\n\u001b[0;32m      1\u001b[0m \u001b[38;5;28;01mimport\u001b[39;00m \u001b[38;5;21;01mnumpy\u001b[39;00m \u001b[38;5;28;01mas\u001b[39;00m \u001b[38;5;21;01mnp\u001b[39;00m\n\u001b[1;32m----> 2\u001b[0m \u001b[38;5;28;01mimport\u001b[39;00m \u001b[38;5;21;01mpyaudio\u001b[39;00m\n\u001b[0;32m      4\u001b[0m NOTE_MIN \u001b[38;5;241m=\u001b[39m \u001b[38;5;241m40\u001b[39m\n\u001b[0;32m      5\u001b[0m NOTE_MAX \u001b[38;5;241m=\u001b[39m \u001b[38;5;241m71\u001b[39m\n",
      "\u001b[1;31mModuleNotFoundError\u001b[0m: No module named 'pyaudio'"
     ]
    }
   ],
   "source": [
    "import numpy as np\n",
    "import pyaudio\n",
    "\n",
    "NOTE_MIN = 40\n",
    "NOTE_MAX = 71\n",
    "FSAMP = 22050\n",
    "FRAME_SIZE = 2048\n",
    "FRAMES_PER_FFT = 16\n",
    "\n",
    "SAMPLES_PER_FFT = FRAME_SIZE * FRAMES_PER_FFT\n",
    "FREQ_STEP = float(FSAMP) / SAMPLES_PER_FFT\n",
    "\n",
    "NOTE_NAMES = 'C C# D D# E F F# G G# A A# B'.split()\n",
    "\n",
    "def freq_to_number(f):\n",
    "    return 69 + 12 * np.log2(f / 440.0)\n",
    "\n",
    "def number_to_freq(n):\n",
    "    return 440 * 2.0 ** ((n - 69) / 12.0)\n",
    "\n",
    "def note_to_fftbin(n):\n",
    "    return number_to_freq(n) / FREQ_STEP\n",
    "\n",
    "imin = max(0, int(np.floor(note_to_fftbin(NOTE_MIN - 1))))\n",
    "imax = min(SAMPLES_PER_FFT, int(np.ceil(note_to_fftbin(NOTE_MAX + 1))))\n",
    "\n",
    "buf = np.zeros(SAMPLES_PER_FFT, dtype=np.float32)\n",
    "num_frames = 0\n",
    "\n",
    "stream = pyaudio.PyAudio().open(format=pyaudio.paInt16,\n",
    "                                channels=1,\n",
    "                                rate=FSAMP,\n",
    "                                input=True,\n",
    "                                frames_per_buffer=FRAME_SIZE)\n",
    "\n",
    "stream.start_stream()\n",
    "\n",
    "window = 0.5 * (1 - np.cos(np.linspace(0, 2*np.pi, SAMPLES_PER_FFT, False)))\n",
    "\n",
    "# print ('sampling at', FSAMP, 'Hz with max resolution of', FREQ_STEP, 'Hz')\n",
    "# print()\n",
    "\n",
    "new_arr = []\n",
    "\n",
    "while stream.is_active():\n",
    "    buf[:-FRAME_SIZE] = buf[FRAME_SIZE:]\n",
    "    buf[-FRAME_SIZE:] = np.fromstring(stream.read(FRAME_SIZE), np.int16)\n",
    "    \n",
    "    fft = np.fft.rfft(buf * window)\n",
    "    \n",
    "    freq = (np.abs(fft[imin:imax]).argmax() + imin) * FREQ_STEP\n",
    "    \n",
    "    num_frames += 1\n",
    "    \n",
    "    if num_frames >= FRAMES_PER_FFT:\n",
    "        print(freq)"
   ]
  },
  {
   "cell_type": "code",
   "execution_count": null,
   "id": "c300cafe",
   "metadata": {},
   "outputs": [],
   "source": []
  }
 ],
 "metadata": {
  "kernelspec": {
   "display_name": "Python 3 (ipykernel)",
   "language": "python",
   "name": "python3"
  },
  "language_info": {
   "codemirror_mode": {
    "name": "ipython",
    "version": 3
   },
   "file_extension": ".py",
   "mimetype": "text/x-python",
   "name": "python",
   "nbconvert_exporter": "python",
   "pygments_lexer": "ipython3",
   "version": "3.9.12"
  }
 },
 "nbformat": 4,
 "nbformat_minor": 5
}
